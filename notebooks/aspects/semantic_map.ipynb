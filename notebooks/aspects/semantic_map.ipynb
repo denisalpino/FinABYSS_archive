{
 "cells": [
  {
   "cell_type": "code",
   "execution_count": 1,
   "metadata": {},
   "outputs": [
    {
     "name": "stderr",
     "output_type": "stream",
     "text": [
      "2025-05-25 10:35:52.393735: E external/local_xla/xla/stream_executor/cuda/cuda_fft.cc:467] Unable to register cuFFT factory: Attempting to register factory for plugin cuFFT when one has already been registered\n",
      "WARNING: All log messages before absl::InitializeLog() is called are written to STDERR\n",
      "E0000 00:00:1748158552.544749    2038 cuda_dnn.cc:8579] Unable to register cuDNN factory: Attempting to register factory for plugin cuDNN when one has already been registered\n",
      "E0000 00:00:1748158552.595326    2038 cuda_blas.cc:1407] Unable to register cuBLAS factory: Attempting to register factory for plugin cuBLAS when one has already been registered\n",
      "W0000 00:00:1748158552.940464    2038 computation_placer.cc:177] computation placer already registered. Please check linkage and avoid linking the same target more than once.\n",
      "W0000 00:00:1748158552.940510    2038 computation_placer.cc:177] computation placer already registered. Please check linkage and avoid linking the same target more than once.\n",
      "W0000 00:00:1748158552.940512    2038 computation_placer.cc:177] computation placer already registered. Please check linkage and avoid linking the same target more than once.\n",
      "W0000 00:00:1748158552.940513    2038 computation_placer.cc:177] computation placer already registered. Please check linkage and avoid linking the same target more than once.\n",
      "2025-05-25 10:35:52.975815: I tensorflow/core/platform/cpu_feature_guard.cc:210] This TensorFlow binary is optimized to use available CPU instructions in performance-critical operations.\n",
      "To enable the following instructions: AVX2 FMA, in other operations, rebuild TensorFlow with the appropriate compiler flags.\n"
     ]
    }
   ],
   "source": [
    "import numpy as np\n",
    "import pandas as pd\n",
    "\n",
    "# IDK, but importing BERTopic without this ends with error\n",
    "from torch import device\n",
    "\n",
    "from bertopic import BERTopic\n",
    "import datamapplot\n",
    "\n",
    "import gc\n",
    "import pickle\n",
    "import os\n",
    "os.chdir(\"/home/denisalpino/dev/FinABYSS/\")"
   ]
  },
  {
   "cell_type": "code",
   "execution_count": 2,
   "metadata": {},
   "outputs": [],
   "source": [
    "embeddings_2d = np.load(\"embeddings2d.npy\")\n",
    "labels = np.load(\"labels.npy\")"
   ]
  },
  {
   "cell_type": "code",
   "execution_count": 3,
   "metadata": {},
   "outputs": [],
   "source": [
    "embeddings_full = np.load('data/preprocessed/embeddings_mp.npy')\n",
    "rows, _ = embeddings_full.shape"
   ]
  },
  {
   "cell_type": "code",
   "execution_count": 4,
   "metadata": {},
   "outputs": [],
   "source": [
    "RANDOM_STATE = 42\n",
    "np.random.seed(RANDOM_STATE)\n",
    "embeddings_idx = np.random.choice(rows, size=int(rows * 0.10), replace=False)\n",
    "embeddings = embeddings_full[embeddings_idx]"
   ]
  },
  {
   "cell_type": "code",
   "execution_count": null,
   "metadata": {},
   "outputs": [],
   "source": [
    "del embeddings_full\n",
    "gc.collect();"
   ]
  },
  {
   "cell_type": "code",
   "execution_count": 6,
   "metadata": {},
   "outputs": [
    {
     "data": {
      "text/plain": [
       "0"
      ]
     },
     "execution_count": 6,
     "metadata": {},
     "output_type": "execute_result"
    }
   ],
   "source": [
    "corpus = pd.read_parquet(\"data/preprocessed/articles.parquet\")\n",
    "df = corpus.iloc[embeddings_idx].reset_index(drop=True)\n",
    "\n",
    "del corpus, embeddings\n",
    "gc.collect()"
   ]
  },
  {
   "cell_type": "code",
   "execution_count": 7,
   "metadata": {},
   "outputs": [
    {
     "name": "stderr",
     "output_type": "stream",
     "text": [
      "2025-05-25 10:37:47,194 - BERTopic - WARNING: You are loading a BERTopic model without explicitly defining an embedding model. If you want to also load in an embedding model, make sure to use `BERTopic.load(my_model, embedding_model=my_embedding_model)`.\n"
     ]
    }
   ],
   "source": [
    "topic_model = BERTopic.load(\"topic_model\")"
   ]
  },
  {
   "cell_type": "markdown",
   "metadata": {},
   "source": [
    "### Preprocessing"
   ]
  },
  {
   "cell_type": "code",
   "execution_count": 8,
   "metadata": {},
   "outputs": [],
   "source": [
    "# Номер кластера для каждой новости\n",
    "topic_per_doc = topic_model.topics_\n",
    "\n",
    "unique_topics = set(topic_per_doc)\n",
    "\n",
    "names = [topic_model.custom_labels_[topic + topic_model._outliers] for topic in unique_topics]\n",
    "topic_name_mapping = {topic_num: topic_name for topic_num, topic_name in zip(unique_topics, names)}\n",
    "\n",
    "# Меняем название выбросов для совместимоси с datamapplot\n",
    "topic_name_mapping[-1] = \"Unlabelled\"\n",
    "\n",
    "# Массив названиий кластера для каждой новости\n",
    "named_topic_per_doc = pd.Series(topic_per_doc).map(topic_name_mapping).values\n",
    "\n",
    "\n",
    "data = []\n",
    "for x, y, dt, label, text, title, source, tickers, url in zip(\n",
    "        embeddings_2d[:, 0],\n",
    "        embeddings_2d[:, 1],\n",
    "        df[\"datetime\"],\n",
    "        named_topic_per_doc,\n",
    "        df[\"text\"],\n",
    "        df[\"title\"],\n",
    "        df[\"source\"],\n",
    "        df[\"assets\"],\n",
    "        df[\"url\"]\n",
    "    ):\n",
    "    date, time = dt.strftime(\"%d.%m.%Y %H:%M:%S\").split()\n",
    "    #if label != \"Unlabelled\":\n",
    "    row = [\n",
    "        x, y, title, label, f\"{title}\\n\\nTopic: {label}\\nDate: {date}\\nTime: {time}\\nTickers: {', '.join(tickers)}\\nSource: {source}\",\n",
    "        dt, date + \" \" + time, len(text), url, ', '.join(tickers), source\n",
    "    ]\n",
    "    data.append(row)\n",
    "\n",
    "df2 = pd.DataFrame(data, columns=[\"x\", \"y\", \"title\", \"topic\", \"hover_text\", \"datetime\", \"datetime_formatted\", \"char_len\", \"link\", \"tickers\", \"source\"])\n",
    "df2[\"datetime\"] = pd.to_datetime(df2[\"datetime\"])"
   ]
  },
  {
   "cell_type": "code",
   "execution_count": null,
   "metadata": {},
   "outputs": [
    {
     "data": {
      "text/plain": [
       "0"
      ]
     },
     "execution_count": 19,
     "metadata": {},
     "output_type": "execute_result"
    }
   ],
   "source": [
    "del df, data, named_topic_per_doc, topic_name_mapping, names, topic_per_doc\n",
    "gc.collect()"
   ]
  },
  {
   "cell_type": "code",
   "execution_count": 10,
   "metadata": {},
   "outputs": [],
   "source": [
    "# ================================== #\n",
    "# ДЛЯ РАМОК ВНУТРИ ВСПЛЫВАЮЩЕГО ОКНА #\n",
    "# ================================== #\n",
    "badge_css = \"\"\"\n",
    "    border-radius:6px;\n",
    "    width:fit-content;\n",
    "    max-width:75%;\n",
    "    margin:2px;\n",
    "    padding: 2px 10px 2px 10px;\n",
    "    font-size: 10pt;\n",
    "\"\"\"\n",
    "\n",
    "hover_text_template = \"\"\"\n",
    "<div>\n",
    "    <p>{title}</p>\n",
    "    <div style=\"background-color:{{color}};color:#fff;{badge_css}\">Source: {{source}}</div>\n",
    "    <div style=\"background-color:#eeeeeeff;{badge_css}\">Published: {{dt}}</div>\n",
    "</div>\n",
    "\"\"\"\n",
    "\n",
    "# Use with the next parameters:\n",
    "#   extra_point_data=extra_data,\n",
    "#   hover_text_html_template=hover_text_template,\n",
    "\n",
    "# =============================== #\n",
    "# ДЛЯ ВЫБОРА ИСТОЧНИКОВ В ЛЕГЕНДЕ #\n",
    "# =============================== #\n",
    "custom_css=\"\"\"\n",
    ".row {\n",
    "    display : flex;\n",
    "    align-items : center;\n",
    "}\n",
    ".box {\n",
    "    height:10px;\n",
    "    width:10px;\n",
    "    border-radius:2px;\n",
    "    margin-right:5px;\n",
    "    padding:0px 0 1px 0;\n",
    "    text-align:center;\n",
    "    color: white;\n",
    "    font-size: 14px;\n",
    "    cursor: pointer;\n",
    "}\n",
    "#legend {\n",
    "    position: absolute;\n",
    "    top: 0;\n",
    "    right: 0;\n",
    "}\n",
    "#title-container {\n",
    "    max-width: 75%;\n",
    "}\n",
    "\n",
    "\"\"\"\n",
    "custom_html = \"\"\"\n",
    "<div id=\"legend\" class=\"container-box\">\n",
    "\"\"\"\n",
    "\n",
    "sources = df[\"source\"].unique() # Нужно создать список ресурсов\n",
    "for source in sources:\n",
    "    custom_html += f'    <div class=\"row\"><div id=\"{source}\"' + 'class=\"box\" style=\"background-color:{#000000};\">' + f'</div>{source}</div>\\n'\n",
    "\n",
    "custom_html += \"\"\"\n",
    "</div>\n",
    "\"\"\"\n",
    "\n",
    "\n",
    "custom_js = \"\"\"\n",
    "const legend = document.getElementById(\"legend\");\n",
    "const selectedPrimaryFields = new Set();\n",
    "\n",
    "legend.addEventListener('click', function (event) {\n",
    "    const selectedField = event.srcElement.id;\n",
    "\n",
    "    if (selectedField) {\n",
    "        if (selectedPrimaryFields.has(selectedField)) {\n",
    "            selectedPrimaryFields.delete(selectedField);\n",
    "            event.srcElement.innerHTML = \"\";\n",
    "        } else {\n",
    "            selectedPrimaryFields.add(selectedField);\n",
    "            event.srcElement.innerHTML = \"✓\";\n",
    "        }\n",
    "    }\n",
    "    const selectedIndices = [];\n",
    "    datamap.metaData.primary_field.forEach((source, i) => {\n",
    "        if (selectedPrimaryFields.has(source)) {\n",
    "            selectedIndices.push(i);\n",
    "        }\n",
    "    });\n",
    "    datamap.addSelection(selectedIndices, \"legend\");\n",
    "});\n",
    "\"\"\"\n",
    "#  Use with the next parameters:\n",
    "#   custom_css=custom_css,\n",
    "#   custom_html=custom_html,\n",
    "#   custom_js=custom_js"
   ]
  },
  {
   "cell_type": "code",
   "execution_count": 27,
   "metadata": {},
   "outputs": [],
   "source": [
    "badge_css = \"\"\"\n",
    "    border-radius:6px;\n",
    "    width:fit-content;\n",
    "    max-width:75%;\n",
    "    margin:2px;\n",
    "    padding: 2px 10px 2px 10px;\n",
    "    font-size: 10pt;\n",
    "\"\"\"\n",
    "hover_text_template = f\"\"\"\n",
    "<div>\n",
    "    <div style=\"font-size:12pt;padding:2px;\"><b>{{title}}</b></div>\n",
    "    <div style=\"background-color:#0000FF;{badge_css}\">{{topic}}</div>\n",
    "    <div style=\"background-color:#FF0000;{badge_css}\">{{tickers}}</div>\n",
    "    <div>SOURCE: {{source}}</div>\n",
    "    <div>{{datetime_formatted}}</div>\n",
    "</div>\n",
    "\"\"\"\n",
    "custom_css_logo = \"\"\"\n",
    "#logo-container {\n",
    "    position: absolute;\n",
    "    right: 0;\n",
    "    top: 0;\n",
    "    margin: 8px 16px 8px 16px;\n",
    "    z-index: 0;\n",
    "}\n",
    "\"\"\"\n",
    "custom_html = \"\"\"\n",
    "<div id=\"logo-container\" class=\"container-box\" style=\"position: fixed; z-index: 0; top: 0; right: 0;\">\n",
    "    <img src=\"file://wsl.localhost/Ubuntu/home/denisalpino/dev/FinABYSS/docs/finabyss_dark.svg\" style=\"width:512px\" />\n",
    "</div>\n",
    "\"\"\""
   ]
  },
  {
   "cell_type": "code",
   "execution_count": null,
   "metadata": {},
   "outputs": [],
   "source": [
    "import matplotlib.pyplot as plt\n",
    "import matplotlib.colors as mcolors\n",
    "import matplotlib as mpl\n",
    "\n",
    "# cmap = plt.get_cmap('plasma_r')"
   ]
  },
  {
   "cell_type": "code",
   "execution_count": null,
   "metadata": {},
   "outputs": [],
   "source": [
    "custom_css=\"\"\"\n",
    ".row {\n",
    "    display: flex;\n",
    "    align-items: center;\n",
    "    /* Чтобы название источника переносилось */\n",
    "    overflow-wrap: break-word;\n",
    "    white-space: normal;\n",
    "}\n",
    "\n",
    ".box {\n",
    "    height: 10px;\n",
    "    width: 10px;\n",
    "    border-radius: 2px;\n",
    "    margin-right: 5px;\n",
    "    padding: 0 0 1px 0;\n",
    "    text-align: center;\n",
    "    color: white;\n",
    "    font-size: 14px;\n",
    "    cursor: pointer;\n",
    "}\n",
    "\n",
    "#legend {\n",
    "    position: absolute;\n",
    "    top: 0;\n",
    "    right: 0;\n",
    "    /* фиксированные размеры */\n",
    "    height: 512px;\n",
    "    width: 256px;\n",
    "    /* когда контента больше, появляется скролл */\n",
    "    overflow-y: auto;\n",
    "    overflow-x: hidden;\n",
    "    /* перенос слов внутри */\n",
    "    word-wrap: break-word;\n",
    "    white-space: normal;\n",
    "}\n",
    "\n",
    "#title-container {\n",
    "    max-width: 100%;\n",
    "}\n",
    "\"\"\"\n",
    "\n",
    "n_sources = len(df['source'].value_counts()[:50].index)\n",
    "color_mapping = plt.get_cmap('inferno', n_sources)\n",
    "colors = [\n",
    "    mcolors.to_hex(color_mapping(i))    # cmap(i) возвращает RGBA,\n",
    "    for i in range(n_sources)\n",
    "]\n",
    "color_mapping = dict(zip(df['source'].value_counts()[:50].index, colors))\n",
    "\n",
    "# 3) Генерация HTML блока с легендой\n",
    "custom_html = \"\"\"\n",
    "<div id=\"legend\" class=\"container-box\">\n",
    "\"\"\"\n",
    "for source, color in color_mapping.items():\n",
    "    custom_html += f'    <div class=\"row\"><div id=\"{source}\" class=\"box\" style=\"background-color:{color};\"></div>{source}</div>\\n'\n",
    "custom_html += \"\"\"\n",
    "</div>\n",
    "\"\"\"\n",
    "\n",
    "cucustom_js = \"\"\"\n",
    "const legend = document.getElementById(\"legend\");\n",
    "const selectedSources = new Set();\n",
    "\n",
    "legend.addEventListener('click', function(event) {\n",
    "    const row = event.target.closest('.row');\n",
    "    if (!row || !legend.contains(row)) return;\n",
    "\n",
    "    const box = row.querySelector('.box');\n",
    "    const src = box.id;\n",
    "\n",
    "    if (selectedSources.has(src)) {\n",
    "        selectedSources.delete(src);\n",
    "        box.textContent = '';\n",
    "    } else {\n",
    "        selectedSources.add(src);\n",
    "        box.textContent = '✓';\n",
    "    }\n",
    "\n",
    "    // Сбрасываем прошлые выделения для нашего класса\n",
    "    datamap.clearSelection(\"legend\");\n",
    "\n",
    "    // Собираем индексы по реальному полю source\n",
    "    const indices = datamap.metaData.source\n",
    "        .map((s, i) => selectedSources.has(s) ? i : -1)\n",
    "        .filter(i => i >= 0);\n",
    "\n",
    "    if (indices.length > 0) {\n",
    "        datamap.addSelection(indices, \"legend\");\n",
    "    }\n",
    "});\n",
    "\n",
    "\"\"\""
   ]
  },
  {
   "cell_type": "code",
   "execution_count": 28,
   "metadata": {},
   "outputs": [],
   "source": [
    "plot = datamapplot.create_interactive_plot(\n",
    "    df2[[\"x\", \"y\"]].to_numpy(),\n",
    "    df2[\"topic\"],\n",
    "    hover_text=df2[\"hover_text\"], # Change to hover_text\n",
    "    darkmode=True,\n",
    "\n",
    "    color_label_text=False, # Названия кластеров не под цвет кластера, а просто белые\n",
    "    # cmap=cmap,\n",
    "    palette_hue_radius_dependence=10,\n",
    "    cvd_safer=True,\n",
    "\n",
    "    title=\"Semantic Map of Financial News\",\n",
    "    sub_title=\"Sample of 125,000 news articles from Yahoo! Finance\",\n",
    "    font_family=\"Montserrat\",\n",
    "    text_min_pixel_size=8,\n",
    "    text_max_pixel_size=36,\n",
    "    text_collision_size_scale=15,       # Чтобы заголовки тем не наезжали друг на друга\n",
    "    use_medoids=True,                  # Для того, чтобы заголовки тем раcполагаели не в середине, а в медиане кластера\n",
    "\n",
    "    # Выделяем кластеры\n",
    "    polygon_alpha=2,\n",
    "    cluster_boundary_polygons=True,\n",
    "    cluster_boundary_line_width=1,\n",
    "\n",
    "    # Устанавливаем величину точек относительно длины текста\n",
    "    marker_size_array=df2[\"char_len\"],\n",
    "    point_radius_min_pixels=1.5,\n",
    "    point_radius_max_pixels=3,\n",
    "    point_line_width=0, # Убираем белый контур вокруг точек\n",
    "\n",
    "    # Добавляем гистограму для фильтрации по количеству символов\n",
    "    histogram_data=df2[\"datetime\"],\n",
    "    histogram_settings={\n",
    "        \"histogram_title\":\"Dates of Publication\",\n",
    "        \"histogram_bin_fill_color\":\"#a64531\",\n",
    "        \"histogram_bin_unselected_fill_color\":\"#d6a591\",\n",
    "        \"histogram_bin_selected_fill_color\":\"#f68571\",\n",
    "        \"histogram_width\":400,\n",
    "        \"histogram_height\":125,\n",
    "    },\n",
    "\n",
    "    # Поиск по скрытым текстам\n",
    "    enable_search=True,\n",
    "    # search_field=\"full_text\",\n",
    "\n",
    "    # Делаем точки кликабельными\n",
    "    on_click=\"window.open(`{link}`)\",\n",
    "    extra_point_data=df2[[\"link\", \"title\", \"topic\", \"tickers\", \"source\", \"datetime_formatted\"]],\n",
    "\n",
    "    # Добавляем гистограму для фильтрации по количеству символов\n",
    "    # selection_handler=datamapplot.selection_handlers.WordCloud(\n",
    "    #     256,\n",
    "    #     width=500,\n",
    "    #     height=300,\n",
    "    #     color_scale=\"viridis_r\",\n",
    "    #     n_rotations=0,\n",
    "    #     use_idf=True\n",
    "    # )\n",
    "    #logo=\"file://wsl.localhost/Ubuntu/home/denisalpino/dev/FinABYSS/docs/finabyss_dark.svg\",\n",
    "    #logo_width=512,\n",
    "\n",
    "    noise_label=\"Unlabelled\",\n",
    "    noise_color=\"#333333\",\n",
    "\n",
    "    initial_zoom_fraction=0.8,\n",
    "\n",
    "    custom_css=custom_css_logo,\n",
    "    custom_html=custom_html,\n",
    "    # custom_js=custom_js,\n",
    "    hover_text_html_template=hover_text_template,\n",
    ")\n",
    "plot.save(\"new_map.html\")"
   ]
  },
  {
   "cell_type": "code",
   "execution_count": null,
   "metadata": {},
   "outputs": [],
   "source": [
    "plot"
   ]
  },
  {
   "cell_type": "code",
   "execution_count": 9,
   "metadata": {},
   "outputs": [],
   "source": [
    "sub = df2.sample(frac=0.5)"
   ]
  },
  {
   "cell_type": "code",
   "execution_count": 10,
   "metadata": {},
   "outputs": [
    {
     "data": {
      "text/plain": [
       "0"
      ]
     },
     "execution_count": 10,
     "metadata": {},
     "output_type": "execute_result"
    }
   ],
   "source": [
    "del df2\n",
    "gc.collect()"
   ]
  },
  {
   "cell_type": "code",
   "execution_count": null,
   "metadata": {},
   "outputs": [],
   "source": [
    "fig = datamapplot.create_plot(\n",
    "    sub[[\"x\", \"y\"]].to_numpy(),\n",
    "    sub[\"topic\"],\n",
    "    darkmode=True,\n",
    "    title=\"Semantic Map of Financial News\",\n",
    "    sub_title=\"News articles from Yahoo! Finance\",\n",
    "    use_medoids=False,\n",
    "    cvd_safer=True,\n",
    "    palette_hue_radius_dependence=20,\n",
    "    figsize=(16, 16),\n",
    "    label_over_points=False, # Названия будут отображаться не с боку\n",
    "    dynamic_label_size=True, # Названия будут уменьшаться с размерм кластера\n",
    "    dynamic_label_size_scaling_factor=0.4, # Сем ближе к 0, тем меньше различие\n",
    "    max_font_size=16,\n",
    "    min_font_size=6,\n",
    "    font_family=\"Urbanist\",\n",
    "    min_font_weight=100,\n",
    "    max_font_weight=400,\n",
    "\n",
    "    dpi=50,\n",
    "    pylabeladjust_adjust_by_size=False,\n",
    "    force_matplotlib=True\n",
    "    # highlight_labels=[\n",
    "    #     \"Cybersecurity\",\n",
    "    #     \"Sustainable Finance\",\n",
    "    #     \"Green Energy\",\n",
    "    #     \"Topic modelling and text classification\"\n",
    "    # ],\n",
    "    # highlight_label_keywords={\"fontsize\": 26, \"fontweight\": \"black\", \"bbox\":{\"boxstyle\":\"round\"}}\n",
    ")"
   ]
  },
  {
   "cell_type": "code",
   "execution_count": null,
   "metadata": {},
   "outputs": [],
   "source": [
    "fig"
   ]
  }
 ],
 "metadata": {
  "kernelspec": {
   "display_name": "Python 3",
   "language": "python",
   "name": "python3"
  },
  "language_info": {
   "codemirror_mode": {
    "name": "ipython",
    "version": 3
   },
   "file_extension": ".py",
   "mimetype": "text/x-python",
   "name": "python",
   "nbconvert_exporter": "python",
   "pygments_lexer": "ipython3",
   "version": "3.12.3"
  }
 },
 "nbformat": 4,
 "nbformat_minor": 2
}
