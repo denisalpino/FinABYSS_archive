{
 "cells": [
  {
   "cell_type": "code",
   "execution_count": 1,
   "metadata": {},
   "outputs": [],
   "source": [
    "import polars as pl\n",
    "import os\n",
    "os.chdir('/home/denisalpino/dev/FinABYSS') # меняем путь к репозиторию\n",
    "\n",
    "from parsers.yahoo_parser import YahooFinanceParser"
   ]
  },
  {
   "cell_type": "code",
   "execution_count": 2,
   "metadata": {},
   "outputs": [],
   "source": [
    "batch_1 = pl.read_parquet('data/Denis/batch_1.parquet')\n",
    "batch_2 = pl.read_parquet('data/Denis/batch_2.parquet')\n",
    "batch_3 = pl.read_parquet('data/Denis/batch_3.parquet')"
   ]
  },
  {
   "cell_type": "code",
   "execution_count": 3,
   "metadata": {},
   "outputs": [],
   "source": [
    "yfp = YahooFinanceParser()"
   ]
  },
  {
   "cell_type": "code",
   "execution_count": null,
   "metadata": {},
   "outputs": [],
   "source": [
    "results_1 = await yfp.get_all_articles(batch_1.get_column(\"news_urls\").to_list(), \"data\", chunk_size=1000)"
   ]
  },
  {
   "cell_type": "code",
   "execution_count": null,
   "metadata": {},
   "outputs": [],
   "source": [
    "results_2 = await yfp.get_all_articles(batch_2.get_column(\"news_urls\").to_list()[:400_000], \"data\", chunk_size=1000)"
   ]
  },
  {
   "cell_type": "code",
   "execution_count": null,
   "metadata": {},
   "outputs": [],
   "source": [
    "results_3 = await yfp.get_all_articles(batch_3.get_column(\"news_urls\").to_list(), \"data\", chunk_size=1000)"
   ]
  },
  {
   "cell_type": "code",
   "execution_count": 5,
   "metadata": {},
   "outputs": [],
   "source": [
    "pl.Series(name='url', values=list(yfp.state.articles_failed)).to_frame().write_parquet('data/failed_checkpoint_1.parquet')"
   ]
  }
 ],
 "metadata": {
  "kernelspec": {
   "display_name": ".venv",
   "language": "python",
   "name": "python3"
  },
  "language_info": {
   "codemirror_mode": {
    "name": "ipython",
    "version": 3
   },
   "file_extension": ".py",
   "mimetype": "text/x-python",
   "name": "python",
   "nbconvert_exporter": "python",
   "pygments_lexer": "ipython3",
   "version": "3.12.3"
  }
 },
 "nbformat": 4,
 "nbformat_minor": 2
}
