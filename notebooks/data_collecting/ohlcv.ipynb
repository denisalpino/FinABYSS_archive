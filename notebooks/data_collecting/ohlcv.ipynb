{
 "cells": [
  {
   "cell_type": "code",
   "execution_count": 1,
   "metadata": {},
   "outputs": [],
   "source": [
    "import os\n",
    "os.chdir('/home/denisalpino/dev/FinABYSS')\n",
    "\n",
    "import polars as pl\n",
    "import pandas as pd\n",
    "from alpha_vantage.timeseries import TimeSeries\n",
    "\n",
    "from utils.api_key_manager import APIKeyManager"
   ]
  },
  {
   "cell_type": "code",
   "execution_count": 2,
   "metadata": {},
   "outputs": [],
   "source": [
    "akm = APIKeyManager(eval(os.getenv(\"AV_API_KEY\"))) # type: ignore\n",
    "ts = TimeSeries(key=akm.get_current_key(), output_format='pandas', indexing_type='integer')"
   ]
  },
  {
   "cell_type": "code",
   "execution_count": 3,
   "metadata": {},
   "outputs": [
    {
     "data": {
      "text/html": [
       "<div><style>\n",
       ".dataframe > thead > tr,\n",
       ".dataframe > tbody > tr {\n",
       "  text-align: right;\n",
       "  white-space: pre-wrap;\n",
       "}\n",
       "</style>\n",
       "<small>shape: (370_518, 6)</small><table border=\"1\" class=\"dataframe\"><thead><tr><th>datetime</th><th>open</th><th>high</th><th>low</th><th>close</th><th>volume</th></tr><tr><td>datetime[ns, UTC]</td><td>f64</td><td>f64</td><td>f64</td><td>f64</td><td>f64</td></tr></thead><tbody><tr><td>2023-09-01 08:00:00 UTC</td><td>49.1308</td><td>49.3267</td><td>49.1308</td><td>49.2127</td><td>25030.0</td></tr><tr><td>2023-09-01 08:01:00 UTC</td><td>49.2517</td><td>49.2897</td><td>49.1847</td><td>49.1847</td><td>13230.0</td></tr><tr><td>2023-09-01 08:02:00 UTC</td><td>49.2337</td><td>49.2337</td><td>49.2067</td><td>49.2317</td><td>4090.0</td></tr><tr><td>2023-09-01 08:03:00 UTC</td><td>49.2067</td><td>49.2327</td><td>49.1917</td><td>49.2037</td><td>5210.0</td></tr><tr><td>2023-09-01 08:04:00 UTC</td><td>49.2037</td><td>49.2277</td><td>49.1758</td><td>49.1917</td><td>5950.0</td></tr><tr><td>&hellip;</td><td>&hellip;</td><td>&hellip;</td><td>&hellip;</td><td>&hellip;</td><td>&hellip;</td></tr><tr><td>2025-03-19 23:55:00 UTC</td><td>118.74</td><td>118.75</td><td>118.72</td><td>118.74</td><td>21543.0</td></tr><tr><td>2025-03-19 23:56:00 UTC</td><td>118.73</td><td>118.75</td><td>118.7</td><td>118.7316</td><td>31322.0</td></tr><tr><td>2025-03-19 23:57:00 UTC</td><td>118.74</td><td>118.77</td><td>118.73</td><td>118.7696</td><td>34832.0</td></tr><tr><td>2025-03-19 23:58:00 UTC</td><td>118.769</td><td>118.8</td><td>118.76</td><td>118.7801</td><td>31223.0</td></tr><tr><td>2025-03-19 23:59:00 UTC</td><td>118.7801</td><td>118.8</td><td>118.78</td><td>118.8</td><td>27161.0</td></tr></tbody></table></div>"
      ],
      "text/plain": [
       "shape: (370_518, 6)\n",
       "┌─────────────────────────┬──────────┬─────────┬─────────┬──────────┬─────────┐\n",
       "│ datetime                ┆ open     ┆ high    ┆ low     ┆ close    ┆ volume  │\n",
       "│ ---                     ┆ ---      ┆ ---     ┆ ---     ┆ ---      ┆ ---     │\n",
       "│ datetime[ns, UTC]       ┆ f64      ┆ f64     ┆ f64     ┆ f64      ┆ f64     │\n",
       "╞═════════════════════════╪══════════╪═════════╪═════════╪══════════╪═════════╡\n",
       "│ 2023-09-01 08:00:00 UTC ┆ 49.1308  ┆ 49.3267 ┆ 49.1308 ┆ 49.2127  ┆ 25030.0 │\n",
       "│ 2023-09-01 08:01:00 UTC ┆ 49.2517  ┆ 49.2897 ┆ 49.1847 ┆ 49.1847  ┆ 13230.0 │\n",
       "│ 2023-09-01 08:02:00 UTC ┆ 49.2337  ┆ 49.2337 ┆ 49.2067 ┆ 49.2317  ┆ 4090.0  │\n",
       "│ 2023-09-01 08:03:00 UTC ┆ 49.2067  ┆ 49.2327 ┆ 49.1917 ┆ 49.2037  ┆ 5210.0  │\n",
       "│ 2023-09-01 08:04:00 UTC ┆ 49.2037  ┆ 49.2277 ┆ 49.1758 ┆ 49.1917  ┆ 5950.0  │\n",
       "│ …                       ┆ …        ┆ …       ┆ …       ┆ …        ┆ …       │\n",
       "│ 2025-03-19 23:55:00 UTC ┆ 118.74   ┆ 118.75  ┆ 118.72  ┆ 118.74   ┆ 21543.0 │\n",
       "│ 2025-03-19 23:56:00 UTC ┆ 118.73   ┆ 118.75  ┆ 118.7   ┆ 118.7316 ┆ 31322.0 │\n",
       "│ 2025-03-19 23:57:00 UTC ┆ 118.74   ┆ 118.77  ┆ 118.73  ┆ 118.7696 ┆ 34832.0 │\n",
       "│ 2025-03-19 23:58:00 UTC ┆ 118.769  ┆ 118.8   ┆ 118.76  ┆ 118.7801 ┆ 31223.0 │\n",
       "│ 2025-03-19 23:59:00 UTC ┆ 118.7801 ┆ 118.8   ┆ 118.78  ┆ 118.8    ┆ 27161.0 │\n",
       "└─────────────────────────┴──────────┴─────────┴─────────┴──────────┴─────────┘"
      ]
     },
     "execution_count": 3,
     "metadata": {},
     "output_type": "execute_result"
    }
   ],
   "source": [
    "ohlcv_df = pl.DataFrame()\n",
    "\n",
    "dates = pd.date_range(\"2023-09-01\", \"2025-03-01\", freq=\"MS\", inclusive=\"both\").strftime(\"%Y-%m\").values\n",
    "\n",
    "for date in dates:\n",
    "    # Fetch OHLCV-data for month\n",
    "    try:\n",
    "        data, meta_data = ts.get_intraday( # type: ignore\n",
    "            symbol=\"NVDA\", interval=\"1min\",\n",
    "            outputsize=\"full\", month=date, # to 2025-03\n",
    "            extended_hours=\"true\"\n",
    "        )\n",
    "    except ValueError:\n",
    "        ts = TimeSeries(key=akm.get_next_key(), output_format='pandas', indexing_type='integer')\n",
    "\n",
    "        data, meta_data = ts.get_intraday( # type: ignore\n",
    "            symbol=\"NVDA\", interval=\"1min\",\n",
    "            outputsize=\"full\", month=date, # to 2025-03\n",
    "            extended_hours=\"true\"\n",
    "        )\n",
    "\n",
    "    # Rename columns\n",
    "    data.rename(columns=lambda x: x.split(\". \")[-1] if \". \" in x else x, inplace=True) # type: ignore\n",
    "    data.rename(columns=lambda x: \"datetime\" if x == \"index\" else x, inplace=True) # type: ignore\n",
    "\n",
    "    # Convert string datetime to type datetime and convert into UTC timezone\n",
    "    data['datetime'] = pd.to_datetime(data['datetime'])\n",
    "    data['datetime'] = data['datetime'].dt.tz_localize(meta_data[\"6. Time Zone\"]).dt.tz_convert('UTC')\n",
    "\n",
    "    data = pl.from_pandas(data)\n",
    "\n",
    "    # Merge month with general DataFrame\n",
    "    ohlcv_df = pl.concat([ohlcv_df, data])\n",
    "\n",
    "ohlcv_df.sort(\"datetime\")"
   ]
  },
  {
   "cell_type": "code",
   "execution_count": 4,
   "metadata": {},
   "outputs": [
    {
     "data": {
      "text/plain": [
       "16.960968017578125"
      ]
     },
     "execution_count": 4,
     "metadata": {},
     "output_type": "execute_result"
    }
   ],
   "source": [
    "ohlcv_df.estimated_size('mb')"
   ]
  },
  {
   "cell_type": "code",
   "execution_count": 5,
   "metadata": {},
   "outputs": [],
   "source": [
    "ohlcv_df.write_parquet(\"data/ohlcv.parquet\")"
   ]
  }
 ],
 "metadata": {
  "kernelspec": {
   "display_name": ".venv",
   "language": "python",
   "name": "python3"
  },
  "language_info": {
   "codemirror_mode": {
    "name": "ipython",
    "version": 3
   },
   "file_extension": ".py",
   "mimetype": "text/x-python",
   "name": "python",
   "nbconvert_exporter": "python",
   "pygments_lexer": "ipython3",
   "version": "3.12.3"
  }
 },
 "nbformat": 4,
 "nbformat_minor": 2
}
