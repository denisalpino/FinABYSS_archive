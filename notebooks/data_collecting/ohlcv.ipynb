{
 "cells": [
  {
   "cell_type": "code",
   "execution_count": null,
   "metadata": {},
   "outputs": [],
   "source": [
    "import os\n",
    "os.chdir('/home/denisalpino/dev/FinABYSS') # change path to the current directory\n",
    "\n",
    "import polars as pl\n",
    "import pandas as pd\n",
    "from alpha_vantage.timeseries import TimeSeries\n",
    "\n",
    "from utils.api_key_manager import APIKeyManager"
   ]
  },
  {
   "cell_type": "markdown",
   "metadata": {},
   "source": [
    "##### **Initialization**"
   ]
  },
  {
   "cell_type": "code",
   "execution_count": null,
   "metadata": {},
   "outputs": [],
   "source": [
    "akm = APIKeyManager(eval(os.getenv(\"AV_API_KEY\"))) # type: ignore\n",
    "ts = TimeSeries(key=akm.get_current_key(), output_format='pandas', indexing_type='integer')\n",
    "dates = pd.date_range(\"2023-09-01\", \"2025-03-01\", freq=\"MS\", inclusive=\"both\").strftime(\"%Y-%m\").values"
   ]
  },
  {
   "cell_type": "code",
   "execution_count": null,
   "metadata": {},
   "outputs": [],
   "source": [
    "ohlcv_df = pl.DataFrame()"
   ]
  },
  {
   "cell_type": "markdown",
   "metadata": {},
   "source": [
    "##### **Collecting 1-min OHLCV-data for each month due the period**"
   ]
  },
  {
   "cell_type": "code",
   "execution_count": null,
   "metadata": {},
   "outputs": [],
   "source": [
    "for date in dates:\n",
    "    # Fetch OHLCV-data for month\n",
    "    try:\n",
    "        data, meta_data = ts.get_intraday( # type: ignore\n",
    "            symbol=\"NVDA\", interval=\"1min\",\n",
    "            outputsize=\"full\", month=date,\n",
    "            extended_hours=\"true\"\n",
    "        )\n",
    "    except ValueError:\n",
    "        ts = TimeSeries(key=akm.get_next_key(), output_format='pandas', indexing_type='integer')\n",
    "\n",
    "        data, meta_data = ts.get_intraday( # type: ignore\n",
    "            symbol=\"NVDA\", interval=\"1min\",\n",
    "            outputsize=\"full\", month=date,\n",
    "            extended_hours=\"true\"\n",
    "        )\n",
    "\n",
    "    # Rename columns\n",
    "    data.rename(columns=lambda x: x.split(\". \")[-1] if \". \" in x else x, inplace=True) # type: ignore\n",
    "    data.rename(columns=lambda x: \"datetime\" if x == \"index\" else x, inplace=True) # type: ignore\n",
    "\n",
    "    # Convert string datetime to type datetime and convert into UTC timezone\n",
    "    data['datetime'] = pd.to_datetime(data['datetime'])\n",
    "    data['datetime'] = data['datetime'].dt.tz_localize(meta_data[\"6. Time Zone\"]).dt.tz_convert('UTC')\n",
    "\n",
    "    data = pl.from_pandas(data)\n",
    "\n",
    "    # Merge month with general DataFrame\n",
    "    ohlcv_df = pl.concat([ohlcv_df, data])"
   ]
  },
  {
   "cell_type": "code",
   "execution_count": 4,
   "metadata": {},
   "outputs": [
    {
     "data": {
      "text/plain": [
       "16.960968017578125"
      ]
     },
     "execution_count": 4,
     "metadata": {},
     "output_type": "execute_result"
    }
   ],
   "source": [
    "ohlcv_df.estimated_size('mb')"
   ]
  },
  {
   "cell_type": "markdown",
   "metadata": {},
   "source": [
    "##### **Save collected data**"
   ]
  },
  {
   "cell_type": "code",
   "execution_count": 5,
   "metadata": {},
   "outputs": [],
   "source": [
    "ohlcv_df.write_parquet(\"data/ohlcv.parquet\")"
   ]
  }
 ],
 "metadata": {
  "kernelspec": {
   "display_name": ".venv",
   "language": "python",
   "name": "python3"
  },
  "language_info": {
   "codemirror_mode": {
    "name": "ipython",
    "version": 3
   },
   "file_extension": ".py",
   "mimetype": "text/x-python",
   "name": "python",
   "nbconvert_exporter": "python",
   "pygments_lexer": "ipython3",
   "version": "3.12.3"
  }
 },
 "nbformat": 4,
 "nbformat_minor": 2
}
