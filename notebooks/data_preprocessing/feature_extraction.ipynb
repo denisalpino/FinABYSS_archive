{
 "cells": [
  {
   "cell_type": "code",
   "execution_count": 1,
   "metadata": {},
   "outputs": [],
   "source": [
    "import numpy as np\n",
    "import polars as pl\n",
    "\n",
    "from transformers.pipelines import AutoTokenizer, AutoModel\n",
    "import torch"
   ]
  },
  {
   "cell_type": "code",
   "execution_count": 2,
   "metadata": {},
   "outputs": [
    {
     "name": "stdout",
     "output_type": "stream",
     "text": [
      "Доступно GPU: 1\n"
     ]
    },
    {
     "data": {
      "text/plain": [
       "0"
      ]
     },
     "execution_count": 2,
     "metadata": {},
     "output_type": "execute_result"
    }
   ],
   "source": [
    "print(f\"Доступно GPU: {torch.cuda.device_count()}\")\n",
    "device = 0 if torch.cuda.is_available() else -1\n",
    "device"
   ]
  },
  {
   "cell_type": "code",
   "execution_count": 3,
   "metadata": {},
   "outputs": [],
   "source": [
    "model = AutoModel.from_pretrained(\n",
    "    \"answerdotai/ModernBERT-base\",\n",
    "    device_map=\"auto\",\n",
    "    attn_implementation=\"flash_attention_2\"  # Ускорение внимания\n",
    ").eval()\n",
    "\n",
    "tokenizer = AutoTokenizer.from_pretrained(\"answerdotai/ModernBERT-base\", use_fast=True)\n",
    "\n",
    "def batch_embed(texts, batch_size=32):\n",
    "    embeddings = []\n",
    "\n",
    "    with torch.inference_mode():\n",
    "        for i in range(0, len(texts), batch_size):\n",
    "            inputs = tokenizer(\n",
    "                texts[i:i+batch_size],\n",
    "                padding=\"longest\",\n",
    "                truncation=True,\n",
    "                max_length=8192,\n",
    "                return_tensors=\"pt\"\n",
    "            ).to(model.device)\n",
    "\n",
    "            with torch.amp.autocast(\"cuda\"):\n",
    "                outputs = model(**inputs)\n",
    "\n",
    "            attn_mask = inputs.attention_mask.unsqueeze(-1)\n",
    "            pooled = torch.sum(outputs.last_hidden_state * attn_mask, dim=1) / torch.clamp(attn_mask.sum(dim=1), min=1e-9)\n",
    "            embeddings.append(pooled.half().cpu())  # using float16\n",
    "            torch.cuda.empty_cache()\n",
    "\n",
    "    result = torch.cat(embeddings).numpy().reshape(len(texts), 768)\n",
    "    torch.cuda.empty_cache()\n",
    "    return result"
   ]
  },
  {
   "cell_type": "code",
   "execution_count": null,
   "metadata": {},
   "outputs": [],
   "source": [
    "lazy_df = pl.scan_parquet(\"../../data/preprocessed/articles.parquet\")\n",
    "total = lazy_df.select(pl.len()).collect().item()\n",
    "threshold = 100_000 / total\n",
    "\n",
    "lazy_df = lazy_df.with_columns(\n",
    "    pl.struct([pl.col(\"assets\")]).map_elements(\n",
    "        lambda _: np.random.rand(),\n",
    "        skip_nulls=False,\n",
    "        return_dtype=pl.Float64()\n",
    "    ).alias(\"random\")\n",
    ")\n",
    "sampled_lazy_df = (\n",
    "    lazy_df\n",
    "    .filter(pl.col(\"random\") < threshold)\n",
    "    .select([\"datetime\", \"title\", \"source\", \"assets\", \"url\", \"text\"])\n",
    ")\n",
    "\n",
    "data = sampled_lazy_df.collect().to_pandas()\n",
    "texts = data.text.to_list()"
   ]
  },
  {
   "cell_type": "code",
   "execution_count": 5,
   "metadata": {},
   "outputs": [
    {
     "name": "stderr",
     "output_type": "stream",
     "text": [
      "W0427 01:29:33.762000 126851 torch/_inductor/utils.py:1137] [1/0] Not enough SMs to use max_autotune_gemm mode\n"
     ]
    },
    {
     "name": "stdout",
     "output_type": "stream",
     "text": [
      "CPU times: user 2h 41min 47s, sys: 46.4 s, total: 2h 42min 33s\n",
      "Wall time: 2h 36min 57s\n"
     ]
    }
   ],
   "source": [
    "%%time\n",
    "embeddings = batch_embed(texts, batch_size=32)"
   ]
  },
  {
   "cell_type": "code",
   "execution_count": null,
   "metadata": {},
   "outputs": [],
   "source": [
    "np.save(\"../aspects/data/embeddings_large.npy\", embeddings)\n",
    "data.to_csv(\"../aspects/data/data_large.csv\", index=False)"
   ]
  },
  {
   "cell_type": "code",
   "execution_count": 7,
   "metadata": {},
   "outputs": [],
   "source": [
    "torch.cuda.empty_cache()"
   ]
  }
 ],
 "metadata": {
  "kernelspec": {
   "display_name": "Python 3",
   "language": "python",
   "name": "python3"
  },
  "language_info": {
   "codemirror_mode": {
    "name": "ipython",
    "version": 3
   },
   "file_extension": ".py",
   "mimetype": "text/x-python",
   "name": "python",
   "nbconvert_exporter": "python",
   "pygments_lexer": "ipython3",
   "version": "3.10.17"
  }
 },
 "nbformat": 4,
 "nbformat_minor": 2
}
