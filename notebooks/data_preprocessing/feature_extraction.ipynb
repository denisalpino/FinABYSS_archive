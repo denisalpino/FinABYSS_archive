{
 "cells": [
  {
   "cell_type": "code",
   "execution_count": null,
   "metadata": {},
   "outputs": [],
   "source": [
    "import numpy as np\n",
    "import polars as pl\n",
    "\n",
    "from transformers.pipelines import AutoTokenizer, AutoModel\n",
    "import torch"
   ]
  },
  {
   "cell_type": "code",
   "execution_count": null,
   "metadata": {},
   "outputs": [],
   "source": [
    "print(f\"Доступно GPU: {torch.cuda.device_count()}\")\n",
    "device = 0 if torch.cuda.is_available() else -1\n",
    "device"
   ]
  },
  {
   "cell_type": "code",
   "execution_count": null,
   "metadata": {},
   "outputs": [],
   "source": [
    "model = AutoModel.from_pretrained(\n",
    "    \"answerdotai/ModernBERT-base\",\n",
    "    torch_dtype=torch.bfloat16,  # Используем float16 для ускорения\n",
    "    device_map=\"auto\",\n",
    "    attn_implementation=\"flash_attention_2\"  # Ускорение внимания\n",
    ").eval()\n",
    "\n",
    "tokenizer = AutoTokenizer.from_pretrained(\"answerdotai/ModernBERT-base\", use_fast=True)\n",
    "\n",
    "def batch_embed(texts, batch_size=32):\n",
    "    embeddings = []\n",
    "\n",
    "    with torch.inference_mode():\n",
    "        for i in range(0, len(texts), batch_size):\n",
    "            inputs = tokenizer(\n",
    "                texts[i:i+batch_size],\n",
    "                padding=\"longest\",\n",
    "                truncation=True,\n",
    "                max_length=8192,\n",
    "                return_tensors=\"pt\"\n",
    "            ).to(model.device)\n",
    "\n",
    "            with torch.cuda.amp.autocast():\n",
    "                outputs = model(**inputs)\n",
    "\n",
    "            attn_mask = inputs.attention_mask.unsqueeze(-1)\n",
    "            emb = torch.sum(outputs.last_hidden_state * attn_mask, dim=1) / torch.clamp(attn_mask.sum(dim=1), min=1)\n",
    "            embeddings.append(emb.half().cpu())  # float16 для экономии памяти\n",
    "            torch.cuda.empty_cache()\n",
    "\n",
    "    result = torch.cat(embeddings).numpy().reshape(len(texts), 768)\n",
    "    torch.cuda.empty_cache()\n",
    "    return result"
   ]
  },
  {
   "cell_type": "code",
   "execution_count": null,
   "metadata": {},
   "outputs": [],
   "source": [
    "lazy_df = pl.scan_parquet(\"../data/preprocessed/articles.parquet\")\n",
    "total = lazy_df.select(pl.count()).collect().item()\n",
    "threshold = 1.0 if total <= 10000 else 10000 / total\n",
    "\n",
    "lazy_df = lazy_df.with_columns(\n",
    "    pl.struct([pl.col(\"assets\")]).map_elements(\n",
    "        lambda _: np.random.rand(),\n",
    "        skip_nulls=False,\n",
    "        return_dtype=pl.Float64()\n",
    "    ).alias(\"random\")\n",
    ")\n",
    "sampled_lazy_df = lazy_df.filter(pl.col(\"random\") < threshold).select([\"text\", \"datetime\"])\n",
    "\n",
    "data = sampled_lazy_df.collect().to_pandas()\n",
    "texts = data.text.to_list()"
   ]
  },
  {
   "cell_type": "code",
   "execution_count": null,
   "metadata": {},
   "outputs": [],
   "source": [
    "embeddings = batch_embed(texts, batch_size=32)\n",
    "# 20.3 без очистк кэша | 10.8 с очисткой памяти | 10.5 с токенезатором на Rust | 10.6 с MixedPrecision | 10.6 с синхронизацией | Было 13 минут на примерно 10900"
   ]
  },
  {
   "cell_type": "code",
   "execution_count": null,
   "metadata": {},
   "outputs": [],
   "source": [
    "np.save(\"embeddings.npy\", embeddings)\n",
    "data.to_csv(\"data.csv\", index=False)"
   ]
  },
  {
   "cell_type": "code",
   "execution_count": null,
   "metadata": {},
   "outputs": [],
   "source": [
    "torch.cuda.empty_cache()"
   ]
  }
 ],
 "metadata": {
  "language_info": {
   "name": "python"
  }
 },
 "nbformat": 4,
 "nbformat_minor": 2
}
