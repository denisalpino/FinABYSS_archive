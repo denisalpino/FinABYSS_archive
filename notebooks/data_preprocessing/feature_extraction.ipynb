{
 "cells": [
  {
   "cell_type": "code",
   "execution_count": null,
   "metadata": {},
   "outputs": [],
   "source": [
    "import numpy as np\n",
    "import polars as pl\n",
    "\n",
    "from sentence_transformers import SentenceTransformer\n",
    "import torch"
   ]
  },
  {
   "cell_type": "code",
   "execution_count": 2,
   "metadata": {},
   "outputs": [
    {
     "name": "stdout",
     "output_type": "stream",
     "text": [
      "Доступно GPU: 1\n"
     ]
    },
    {
     "data": {
      "text/plain": [
       "0"
      ]
     },
     "execution_count": 2,
     "metadata": {},
     "output_type": "execute_result"
    }
   ],
   "source": [
    "print(f\"Доступно GPU: {torch.cuda.device_count()}\")\n",
    "device = 0 if torch.cuda.is_available() else -1\n",
    "device"
   ]
  },
  {
   "cell_type": "code",
   "execution_count": null,
   "metadata": {},
   "outputs": [],
   "source": [
    "extractor = SentenceTransformer(\n",
    "    model_name_or_path=\"Alibaba-NLP/gte-modernbert-base\",\n",
    "    device=device,\n",
    "    model_kwargs=dict(\n",
    "        torch_dtype=torch.float16,\n",
    "        attn_implementation=\"flash_attention_2\"\n",
    "    )\n",
    ")"
   ]
  },
  {
   "cell_type": "code",
   "execution_count": null,
   "metadata": {},
   "outputs": [],
   "source": [
    "lazy_df = pl.scan_parquet(\"../../data/preprocessed/articles.parquet\")\n",
    "total = lazy_df.select(pl.len()).collect().item()\n",
    "threshold = 100_000 / total\n",
    "\n",
    "lazy_df = lazy_df.with_columns(\n",
    "    pl.struct([pl.col(\"assets\")]).map_elements(\n",
    "        lambda _: np.random.rand(),\n",
    "        skip_nulls=False,\n",
    "        return_dtype=pl.Float64()\n",
    "    ).alias(\"random\")\n",
    ")\n",
    "sampled_lazy_df = (\n",
    "    lazy_df\n",
    "    .filter(pl.col(\"random\") < threshold)\n",
    "    .select([\"datetime\", \"title\", \"source\", \"assets\", \"url\", \"text\"])\n",
    ")\n",
    "\n",
    "data = sampled_lazy_df.collect().to_pandas()\n",
    "texts = data.text.to_list()"
   ]
  },
  {
   "cell_type": "code",
   "execution_count": null,
   "metadata": {},
   "outputs": [
    {
     "name": "stderr",
     "output_type": "stream",
     "text": [
      "W0427 01:29:33.762000 126851 torch/_inductor/utils.py:1137] [1/0] Not enough SMs to use max_autotune_gemm mode\n"
     ]
    },
    {
     "name": "stdout",
     "output_type": "stream",
     "text": [
      "CPU times: user 2h 41min 47s, sys: 46.4 s, total: 2h 42min 33s\n",
      "Wall time: 2h 36min 57s\n"
     ]
    }
   ],
   "source": [
    "embeddings = extractor.encode(\n",
    "    texts,\n",
    "    show_progress_bar=True,\n",
    "    normalize_embeddings=True\n",
    ")"
   ]
  },
  {
   "cell_type": "code",
   "execution_count": null,
   "metadata": {},
   "outputs": [],
   "source": [
    "np.save(\"../aspects/data/embeddings_large.npy\", embeddings)\n",
    "data.to_csv(\"../aspects/data/data_large.csv\", index=False)"
   ]
  },
  {
   "cell_type": "code",
   "execution_count": 7,
   "metadata": {},
   "outputs": [],
   "source": [
    "torch.cuda.empty_cache()"
   ]
  }
 ],
 "metadata": {
  "kernelspec": {
   "display_name": "Python 3",
   "language": "python",
   "name": "python3"
  },
  "language_info": {
   "codemirror_mode": {
    "name": "ipython",
    "version": 3
   },
   "file_extension": ".py",
   "mimetype": "text/x-python",
   "name": "python",
   "nbconvert_exporter": "python",
   "pygments_lexer": "ipython3",
   "version": "3.12.3"
  }
 },
 "nbformat": 4,
 "nbformat_minor": 2
}
