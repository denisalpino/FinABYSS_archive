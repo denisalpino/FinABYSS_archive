{
 "cells": [
  {
   "cell_type": "code",
   "execution_count": 1,
   "metadata": {},
   "outputs": [],
   "source": [
    "# Word cloud\n",
    "from collections import Counter\n",
    "import re\n",
    "\n",
    "import matplotlib.pyplot as plt\n",
    "import matplotlib.colors as mcolors\n",
    "from wordcloud import WordCloud\n",
    "import nltk\n",
    "from nltk.corpus import stopwords\n",
    "from nltk.tokenize import word_tokenize\n",
    "# nltk.download('stopwords', quiet=True) # run only once\n",
    "# nltk.download('punkt_tab', quiet=True) # run only once\n",
    "\n",
    "# General\n",
    "from tqdm.auto import tqdm\n",
    "import pandas as pd\n",
    "import polars as pl\n",
    "import plotly.express as px\n",
    "import plotly.graph_objects as go\n",
    "import warnings\n",
    "\n",
    "# for selecting current directory\n",
    "import os\n",
    "os.chdir('/home/denisalpino/dev/FinABYSS')"
   ]
  },
  {
   "cell_type": "code",
   "execution_count": 2,
   "metadata": {},
   "outputs": [],
   "source": [
    "warnings.simplefilter(\"ignore\", Warning)\n",
    "\n",
    "if not os.path.exists(\"notebooks/data_preprocessing/img\"):\n",
    "    os.mkdir(\"notebooks/data_preprocessing/img\")\n",
    "if not os.path.exists(\"notebooks/data_preprocessing/img/light\"):\n",
    "    os.mkdir(\"notebooks/data_preprocessing/img/light\")\n",
    "if not os.path.exists(\"notebooks/data_preprocessing/img/dark\"):\n",
    "    os.mkdir(\"notebooks/data_preprocessing/img/dark\")"
   ]
  },
  {
   "cell_type": "code",
   "execution_count": 3,
   "metadata": {},
   "outputs": [],
   "source": [
    "df = pd.read_parquet(\"data/preprocessed/articles.parquet\", columns=[\"title\", \"source\", \"assets\", \"datetime\"])"
   ]
  },
  {
   "cell_type": "markdown",
   "metadata": {},
   "source": [
    "#### **Data Vizualization**"
   ]
  },
  {
   "cell_type": "markdown",
   "metadata": {},
   "source": [
    "#### **Distribution of articls by date (all articles | all after 18.03.2025 | only Nvidia)**"
   ]
  },
  {
   "cell_type": "code",
   "execution_count": 4,
   "metadata": {},
   "outputs": [],
   "source": [
    "def show_dist_by_dates(ser, title, template=\"plotly\") -> go.Figure:\n",
    "    fig = go.Figure(\n",
    "        data=[go.Histogram(\n",
    "            x=ser,\n",
    "            xbins=dict(\n",
    "                size=86400000,\n",
    "            )\n",
    "        )]\n",
    "    )\n",
    "    fig.update_layout(\n",
    "        title=dict(text=title, font=dict(size=26)),\n",
    "        title_x=0.5,\n",
    "        xaxis=dict(\n",
    "            title=\"<b>Date</b>\",\n",
    "            title_font=dict(size=22),\n",
    "            tickfont=dict(size=18),\n",
    "        ),\n",
    "        yaxis=dict(\n",
    "            title=\"<b>Quantity</b>\",\n",
    "            title_font=dict(size=22),\n",
    "            tickfont=dict(size=18),\n",
    "            showgrid=False\n",
    "        ),\n",
    "        bargap=0.2,\n",
    "        template=template,\n",
    "        height=600\n",
    "    )\n",
    "    return fig"
   ]
  },
  {
   "cell_type": "markdown",
   "metadata": {},
   "source": [
    "##### **All articles**"
   ]
  },
  {
   "cell_type": "code",
   "execution_count": 5,
   "metadata": {},
   "outputs": [],
   "source": [
    "fig = show_dist_by_dates(df[\"datetime\"], \"<b>Distribution of articles by dates</b>\")\n",
    "fig.write_image(\"notebooks/data_preprocessing/img/light/articles_dist_by_dates.png\", height=700, width=2000)\n",
    "fig.update_layout(template=\"plotly_dark\")\n",
    "fig.write_image(\"notebooks/data_preprocessing/img/dark/articles_dist_by_dates.png\", height=700, width=2000)"
   ]
  },
  {
   "cell_type": "markdown",
   "metadata": {},
   "source": [
    "##### **All articles after 18.03.2025**"
   ]
  },
  {
   "cell_type": "code",
   "execution_count": 6,
   "metadata": {},
   "outputs": [],
   "source": [
    "fig = show_dist_by_dates(df[df[\"datetime\"] >= \"2025-03-19 00:00:00+00:00\"][\"datetime\"], title=\"<b>Distribution of articles by dates (tail)</b>\")\n",
    "fig.write_image(\"notebooks/data_preprocessing/img/light/articles_dist_by_dates_tail.png\", height=700, width=2000)\n",
    "fig.update_layout(template=\"plotly_dark\")\n",
    "fig.write_image(\"notebooks/data_preprocessing/img/dark/articles_dist_by_dates_tail.png\", height=700, width=2000)"
   ]
  },
  {
   "cell_type": "markdown",
   "metadata": {},
   "source": [
    "##### **Only Nvidia**"
   ]
  },
  {
   "cell_type": "code",
   "execution_count": 7,
   "metadata": {},
   "outputs": [],
   "source": [
    "fig = show_dist_by_dates(df[df.assets.apply(lambda x: \"NVDA\" in x)][\"datetime\"], \"<b>Distribution of articles related to Nvidia by dates</b>\")\n",
    "fig.write_image(\"notebooks/data_preprocessing/img/light/articles_dist_by_dates_nvidia.png\", height=700, width=2000)\n",
    "fig.update_layout(template=\"plotly_dark\")\n",
    "fig.write_image(\"notebooks/data_preprocessing/img/dark/articles_dist_by_dates_nvidia.png\", height=700, width=2000)"
   ]
  },
  {
   "cell_type": "markdown",
   "metadata": {},
   "source": [
    "##### **Popular assets**"
   ]
  },
  {
   "cell_type": "code",
   "execution_count": 8,
   "metadata": {},
   "outputs": [],
   "source": [
    "assets = pd.Series([asset for assets in df.assets.to_numpy() if assets.size for asset in assets]).value_counts()\n",
    "\n",
    "fig = px.bar(\n",
    "    y=assets.values[:30],\n",
    "    x=assets.index[:30],\n",
    "    text=assets.values[:30],\n",
    "    template=\"plotly\",\n",
    "    height=600\n",
    ")\n",
    "fig.update_traces(\n",
    "    texttemplate='%{text}',\n",
    "    textposition='outside',\n",
    "    textfont_size=18\n",
    ")\n",
    "fig.update_layout(\n",
    "    title=dict(text=\"<b>Top-30 most popular tickers<b>\", font=dict(size=24)),\n",
    "    title_x=0.5,\n",
    "    xaxis=dict(\n",
    "        title=\"<b>Ticker</b>\",\n",
    "        title_font=dict(size=22),\n",
    "        tickfont=dict(size=18),\n",
    "        tickangle=45\n",
    "    ),\n",
    "    yaxis=dict(\n",
    "        title=\"<b>Frequency</b>\",\n",
    "        title_font=dict(size=22),\n",
    "        tickfont=dict(size=18),\n",
    "        showgrid=False\n",
    "    )\n",
    ")\n",
    "fig.write_image(\"notebooks/data_preprocessing/img/light/top30_tickers.png\", height=700, width=2000)\n",
    "fig.update_layout(template=\"plotly_dark\")\n",
    "fig.write_image(\"notebooks/data_preprocessing/img/dark/top30_tickers.png\", height=700, width=2000)"
   ]
  },
  {
   "cell_type": "markdown",
   "metadata": {},
   "source": [
    "##### **Popular sources**"
   ]
  },
  {
   "cell_type": "code",
   "execution_count": 9,
   "metadata": {},
   "outputs": [],
   "source": [
    "source = df.source.value_counts()\n",
    "\n",
    "fig = px.bar(\n",
    "    y=source.values[:30],\n",
    "    x=source.index[:30],\n",
    "    text=source.values[:30],  # Добавляем значения для отображения\n",
    "    template=\"plotly\",\n",
    "    height=600\n",
    ")\n",
    "fig.update_traces(\n",
    "    texttemplate='%{text}',\n",
    "    textposition='outside',\n",
    "    textfont_size=18\n",
    ")\n",
    "fig.update_layout(\n",
    "    title=dict(text=\"<b>Top-30 most popular sources of articles<b>\", font=dict(size=24)),\n",
    "    title_x=0.5,\n",
    "    xaxis=dict(\n",
    "        title=\"<b>Source</b>\",\n",
    "        title_font=dict(size=22),\n",
    "        tickfont=dict(size=18),\n",
    "        tickangle=45\n",
    "    ),\n",
    "    yaxis=dict(\n",
    "        title=\"<b>Frequency</b>\",\n",
    "        title_font=dict(size=22),\n",
    "        tickfont=dict(size=18),\n",
    "        showgrid=False\n",
    "    )\n",
    ")\n",
    "fig.write_image(\"notebooks/data_preprocessing/img/light/top30_sources.png\", height=700, width=2000)\n",
    "fig.update_layout(template=\"plotly_dark\")\n",
    "fig.write_image(\"notebooks/data_preprocessing/img/dark/top30_sources.png\", height=700, width=2000)"
   ]
  },
  {
   "cell_type": "markdown",
   "metadata": {},
   "source": [
    "#### **Word Cloud**"
   ]
  },
  {
   "cell_type": "markdown",
   "metadata": {},
   "source": [
    "##### **Load all text**"
   ]
  },
  {
   "cell_type": "code",
   "execution_count": 11,
   "metadata": {},
   "outputs": [],
   "source": [
    "# df = pd.read_parquet(\"data/raw/articles.parquet\", columns=[\"text\"], use_pyarrow=True) # 15,4 | 8,6 GB\n",
    "df = pl.read_parquet(\"data/preprocessed/articles.parquet\", columns=[\"text\"], n_rows=250_000) # 5,9 | 2,0 GB"
   ]
  },
  {
   "cell_type": "markdown",
   "metadata": {},
   "source": [
    "##### **Prepare variables**"
   ]
  },
  {
   "cell_type": "code",
   "execution_count": 17,
   "metadata": {},
   "outputs": [],
   "source": [
    "LANG = \"english\"\n",
    "MIN_WORD_LEN = 4\n",
    "TOP_WORDS = 200\n",
    "\n",
    "stop_words = set(stopwords.words(LANG)) | {\"www\", \"com\", \"http\", \"https\", \"2022\", \"2023\", \"2024\", \"2025\"}\n",
    "\n",
    "plotly_dark_palette = mcolors.ListedColormap([\n",
    "    \"#2e91ff\", \"#da16ff\", \"#eb663b\"\n",
    "])"
   ]
  },
  {
   "cell_type": "markdown",
   "metadata": {},
   "source": [
    "##### **Process text using batches**"
   ]
  },
  {
   "cell_type": "code",
   "execution_count": 18,
   "metadata": {},
   "outputs": [],
   "source": [
    "def process_text(text: str) -> list[str]:\n",
    "    if not text:\n",
    "        return []\n",
    "    text = re.sub(r\"[^\\w\\s]\", \"\", text.lower())\n",
    "    tokens = word_tokenize(text)\n",
    "    return [\n",
    "        word for word in tokens\n",
    "        if len(word) >= MIN_WORD_LEN\n",
    "        and word not in stop_words\n",
    "    ]"
   ]
  },
  {
   "cell_type": "code",
   "execution_count": 19,
   "metadata": {},
   "outputs": [
    {
     "data": {
      "application/vnd.jupyter.widget-view+json": {
       "model_id": "bbc1eb653cf940fd92d16a3b2905ff22",
       "version_major": 2,
       "version_minor": 0
      },
      "text/plain": [
       "Text batches: 0it [00:00, ?it/s]"
      ]
     },
     "metadata": {},
     "output_type": "display_data"
    }
   ],
   "source": [
    "batch_size = 25_000\n",
    "total_counts = Counter()\n",
    "\n",
    "for batch in tqdm(df.iter_slices(n_rows=batch_size), desc=\"Text batches\"):\n",
    "    batch_counts = (\n",
    "        batch.lazy()\n",
    "        .with_columns(\n",
    "            pl.col(\"text\")\n",
    "            .map_elements(process_text, return_dtype=pl.List(pl.Utf8))\n",
    "            .alias(\"words\")\n",
    "        )\n",
    "        .explode(\"words\")\n",
    "        .filter(pl.col(\"words\").is_not_null())\n",
    "        .group_by(\"words\")\n",
    "        .agg(pl.count().alias(\"count\"))\n",
    "        .sort(\"count\", descending=True)\n",
    "        .head(TOP_WORDS)\n",
    "        .collect()\n",
    "        .to_pandas()\n",
    "        .set_index(\"words\")\n",
    "        [\"count\"]\n",
    "        .to_dict()\n",
    "    )\n",
    "    total_counts.update(batch_counts)"
   ]
  },
  {
   "cell_type": "markdown",
   "metadata": {},
   "source": [
    "##### **Dark version**"
   ]
  },
  {
   "cell_type": "code",
   "execution_count": 24,
   "metadata": {},
   "outputs": [],
   "source": [
    "wordcloud = WordCloud(\n",
    "    width=2000,\n",
    "    height=1000,\n",
    "    background_color='#1a1a1a',\n",
    "    colormap=plotly_dark_palette,\n",
    "    collocations=False,\n",
    "    max_words=TOP_WORDS,\n",
    ").generate_from_frequencies(total_counts)\n",
    "\n",
    "plt.figure(figsize=(20, 10), facecolor='#1a1a1a')\n",
    "plt.imshow(wordcloud, interpolation='bilinear')\n",
    "plt.axis(\"off\")\n",
    "plt.savefig(\n",
    "    \"notebooks/data_preprocessing/img/dark/wordcloud.png\",\n",
    "    bbox_inches='tight',\n",
    "    pad_inches=0,\n",
    "    edgecolor='none',\n",
    "    dpi=300,\n",
    "    facecolor='#1a1a1a'\n",
    ")\n",
    "plt.close()"
   ]
  },
  {
   "cell_type": "markdown",
   "metadata": {},
   "source": [
    "##### **Light version**"
   ]
  },
  {
   "cell_type": "code",
   "execution_count": 23,
   "metadata": {},
   "outputs": [],
   "source": [
    "wordcloud = WordCloud(\n",
    "    width=2000,\n",
    "    height=1000,\n",
    "    background_color='white',\n",
    "    colormap=plotly_dark_palette,\n",
    "    collocations=False,\n",
    "    max_words=TOP_WORDS,\n",
    ").generate_from_frequencies(total_counts)\n",
    "\n",
    "plt.figure(figsize=(20, 10), facecolor='white')\n",
    "plt.imshow(wordcloud, interpolation='bilinear')\n",
    "plt.axis(\"off\")\n",
    "plt.savefig(\n",
    "    \"notebooks/data_preprocessing/img/light/wordcloud.png\",\n",
    "    bbox_inches='tight',\n",
    "    pad_inches=0,\n",
    "    edgecolor='none',\n",
    "    dpi=300,\n",
    "    facecolor='#1a1a1a'\n",
    ")\n",
    "plt.close()"
   ]
  }
 ],
 "metadata": {
  "kernelspec": {
   "display_name": "Python 3",
   "language": "python",
   "name": "python3"
  },
  "language_info": {
   "codemirror_mode": {
    "name": "ipython",
    "version": 3
   },
   "file_extension": ".py",
   "mimetype": "text/x-python",
   "name": "python",
   "nbconvert_exporter": "python",
   "pygments_lexer": "ipython3",
   "version": "3.12.3"
  }
 },
 "nbformat": 4,
 "nbformat_minor": 2
}
