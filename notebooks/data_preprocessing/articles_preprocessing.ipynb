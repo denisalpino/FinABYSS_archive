{
 "cells": [
  {
   "cell_type": "code",
   "execution_count": null,
   "metadata": {},
   "outputs": [],
   "source": [
    "import polars as pl\n",
    "from transformers import AutoTokenizer\n",
    "\n",
    "import warnings\n",
    "import os\n",
    "os.chdir('/home/denisalpino/dev/FinABYSS')"
   ]
  },
  {
   "cell_type": "code",
   "execution_count": 2,
   "metadata": {},
   "outputs": [],
   "source": [
    "warnings.simplefilter(\"ignore\", Warning)"
   ]
  },
  {
   "cell_type": "code",
   "execution_count": null,
   "metadata": {},
   "outputs": [],
   "source": [
    "title_lower = pl.col(\"title\").str.to_lowercase()\n",
    "condition_title = (\n",
    "    # PR Newswire group\n",
    "    (pl.col(\"source\") == \"PR Newswire\") & (\n",
    "        title_lower.str.contains(\"releases monthly portfolio\", literal=True) |\n",
    "        title_lower.str.contains(\"announce distribution rates\", literal=True) |\n",
    "        title_lower.str.ends_with(\"results of operations\")\n",
    "    )\n",
    ") | (\n",
    "    # Business Wire group\n",
    "    (pl.col(\"source\") == \"Business Wire\") & (\n",
    "        title_lower.str.starts_with(\"eurofins: purchases of own shares\") |\n",
    "        title_lower.str.starts_with(\"eurofins scientific\") |\n",
    "        title_lower.str.ends_with(\"short interest report\") |\n",
    "        title_lower.str.ends_with(\"home member state election\") |\n",
    "        title_lower.str.contains(\"advisory for\", literal=True) |\n",
    "        title_lower.str.contains(\"monthly disclosure of the total number of shares and voting rights\", literal=True) |\n",
    "        title_lower.str.contains(\"early repurchase\", literal=True) |\n",
    "        title_lower.str.contains(\"early redemption\", literal=True) |\n",
    "        title_lower.str.contains(\"issue of debt\", literal=True) |\n",
    "        title_lower.str.contains(\"variable rate fix\", literal=True)\n",
    "    )\n",
    ") | (\n",
    "    # Josh Jenke group\n",
    "    (pl.col(\"source\") == \"Josh Jenke, Peoria Journal Star\") &\n",
    "        title_lower.str.starts_with(\"3 of the best\")\n",
    ") | (\n",
    "    # Public Record group\n",
    "    (pl.col(\"source\") == \"Public Record\") &\n",
    "        title_lower.str.contains(\"vendors licenses\", literal=True)\n",
    ") | (\n",
    "    # Investing.com group\n",
    "    (pl.col(\"source\") == \"Investing.com\") &\n",
    "        title_lower.str.starts_with(\"watch live:\")\n",
    ") | (\n",
    "    # GlobeNewswire group\n",
    "    (pl.col(\"source\") == \"GlobeNewswire\") & (\n",
    "        title_lower.str.starts_with('key digital') |\n",
    "        title_lower.str.starts_with(\"issue of equity\") |\n",
    "        title_lower.str.starts_with(\"delisting of certificates\") |\n",
    "        title_lower.str.starts_with(\"conditions for\") |\n",
    "        title_lower.str.contains(\"buy-back program\", literal=True) |\n",
    "        title_lower.str.contains(\"disclosure of trading in own shares\", literal=True) |\n",
    "        title_lower.str.contains(\"voting rights\", literal=True) |\n",
    "        title_lower.str.contains(\"notification of major holdings\", literal=True) |\n",
    "        title_lower.str.contains(\"investors calendar\", literal=True) |\n",
    "        title_lower.str.contains(\"recall\", literal=True) |\n",
    "        title_lower.str.contains(\"public health alert\", literal=True)\n",
    "    )\n",
    ") | (\n",
    "    # General condition group\n",
    "    title_lower.str.starts_with('aem united states ag tractor and combine report') |\n",
    "    title_lower.str.contains(\"net asset value\", literal=True) |\n",
    "    title_lower.str.contains(\"media advisory\", literal=True) |\n",
    "    title_lower.str.contains(\"form 8\", literal=True) |\n",
    "    title_lower.str.contains(\"block listing interim review\", literal=True) |\n",
    "    title_lower.str.contains(\"holdings in company\", literal=True) |\n",
    "    title_lower.str.contains(\"holding(s) in company\", literal=True) |\n",
    "    title_lower.str.contains(\"director/pdmr shareholding\", literal=True) |\n",
    "    title_lower.str.contains(\"director / pdmr notification\", literal=True) |\n",
    "    title_lower.str.contains(\"null\", literal=True)\n",
    ")"
   ]
  },
  {
   "cell_type": "code",
   "execution_count": null,
   "metadata": {},
   "outputs": [],
   "source": [
    "text_lower = pl.col(\"text\").str.to_lowercase()\n",
    "condition_text = (\n",
    "    # GlobeNewswire group\n",
    "    (pl.col(\"source\") == \"GlobeNewswire\") & (\n",
    "        text_lower.str.starts_with('attachment')\n",
    "    )\n",
    ") | (\n",
    "    # Sarah Ferguson group\n",
    "    (pl.col(\"source\") == \"Sarah Ferguson\") &\n",
    "        text_lower.str.starts_with(\"(sponsored)\")\n",
    ")"
   ]
  },
  {
   "cell_type": "code",
   "execution_count": 4,
   "metadata": {},
   "outputs": [],
   "source": [
    "if not os.path.exists(\"data/preprocessed/\"):\n",
    "    os.mkdir(\"data/preprocessed/\")"
   ]
  },
  {
   "cell_type": "code",
   "execution_count": null,
   "metadata": {},
   "outputs": [],
   "source": [
    "tokenizer = AutoTokenizer.from_pretrained(\"answerdotai/ModernBERT-base\")"
   ]
  },
  {
   "cell_type": "code",
   "execution_count": null,
   "metadata": {},
   "outputs": [],
   "source": [
    "# Takes nearly 1 hour due to non-matrix non-parallelizable tokenization operation\n",
    "with pl.Config() as cfg:\n",
    "    cfg.set_streaming_chunk_size(25_000)\n",
    "\n",
    "    # Build lazy plan\n",
    "    plan = (\n",
    "        pl.scan_parquet(\"data/raw/articles.parquet\")\n",
    "        .with_columns(\n",
    "            pl.col(\"text\")\n",
    "            # Delete all spaces from sides\n",
    "            .str.strip_chars()\n",
    "            # Compress whitespace characters with a line break into only one line break\n",
    "            .str.replace_all(r\"\\n\\s+\", \"\\n\")\n",
    "            .str.replace_all(r\"\\s+\\n\", \"\\n\")\n",
    "            # Compress multiple whitespace characters into a single character\n",
    "            .str.replace_all(r\"[^\\S\\n]{2,}\", \" \")\n",
    "            .alias(\"text\")\n",
    "        )\n",
    "        # Filter empty texts\n",
    "        .filter(pl.col(\"text\").str.len_chars() > 0)\n",
    "        # Filter non-representative texts by titles\n",
    "        .filter(~condition_title)\n",
    "        # Filter non-representative texts by texts\n",
    "        .filter(~condition_text)\n",
    "        # During process of deduplication we cant compare items\n",
    "        # by column `assets` due to internal library restrictions\n",
    "        .unique(subset=[\"text\"])\n",
    "        # Cast the column to its corresponding type\n",
    "        .with_columns(\n",
    "            pl.col(\"datetime\")\n",
    "              .str.to_datetime(format=\"%Y-%m-%dT%H:%M:%S%.fZ\", time_zone=\"UTC\")\n",
    "              .alias(\"datetime\")\n",
    "        )\n",
    "        # Sorting by datetime asceding\n",
    "        .sort(\"datetime\")\n",
    "        # Filter by quantity of tokens\n",
    "        .filter(\n",
    "            pl.col(\"text\")\n",
    "            .map_elements(lambda text: len(tokenizer.tokenize(text))) < 8196\n",
    "        )\n",
    "        .sink_parquet(\"data/preprocessed/articles.parquet\", engine=\"streaming\")\n",
    "    )"
   ]
  },
  {
   "cell_type": "code",
   "execution_count": 6,
   "metadata": {},
   "outputs": [
    {
     "name": "stdout",
     "output_type": "stream",
     "text": [
      "Real size on disk: 2.03 GB\n"
     ]
    }
   ],
   "source": [
    "actual_size = os.path.getsize(\"data/preprocessed/articles.parquet\")\n",
    "\n",
    "print(f\"Real size on disk: {actual_size / 1024**3:.2f} GB\")"
   ]
  }
 ],
 "metadata": {
  "kernelspec": {
   "display_name": ".venv",
   "language": "python",
   "name": "python3"
  },
  "language_info": {
   "codemirror_mode": {
    "name": "ipython",
    "version": 3
   },
   "file_extension": ".py",
   "mimetype": "text/x-python",
   "name": "python",
   "nbconvert_exporter": "python",
   "pygments_lexer": "ipython3",
   "version": "3.12.3"
  }
 },
 "nbformat": 4,
 "nbformat_minor": 2
}
