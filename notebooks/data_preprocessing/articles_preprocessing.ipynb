{
 "cells": [
  {
   "cell_type": "code",
   "execution_count": 1,
   "metadata": {},
   "outputs": [],
   "source": [
    "import polars as pl\n",
    "\n",
    "import warnings\n",
    "import os\n",
    "os.chdir('/home/denisalpino/dev/FinABYSS')"
   ]
  },
  {
   "cell_type": "code",
   "execution_count": 2,
   "metadata": {},
   "outputs": [],
   "source": [
    "warnings.simplefilter(\"ignore\", Warning)"
   ]
  },
  {
   "cell_type": "code",
   "execution_count": 3,
   "metadata": {},
   "outputs": [],
   "source": [
    "plan = (\n",
    "    pl.scan_parquet(\"data/articles.parquet\")\n",
    "    .with_columns(\n",
    "        # cast the column to its corresponding type\n",
    "        pl.col(\"datetime\")\n",
    "        .str.to_datetime(format=\"%Y-%m-%dT%H:%M:%S%.fZ\", time_zone=\"UTC\")\n",
    "        .alias(\"datetime\")\n",
    "    )\n",
    "    .unique() # drop duplicates\n",
    "    .sort(pl.col(\"datetime\")) # sorting by datetime asceding\n",
    ")"
   ]
  },
  {
   "cell_type": "code",
   "execution_count": 4,
   "metadata": {},
   "outputs": [],
   "source": [
    "with pl.Config() as cfg:\n",
    "    # use batches to save memory\n",
    "    cfg.set_streaming_chunk_size(50_000)\n",
    "    df = plan.collect(streaming=True)"
   ]
  },
  {
   "cell_type": "code",
   "execution_count": 5,
   "metadata": {},
   "outputs": [],
   "source": [
    "df.write_parquet(\"data/articles_preprocessed.parquet\", use_pyarrow=True)"
   ]
  },
  {
   "cell_type": "code",
   "execution_count": 6,
   "metadata": {},
   "outputs": [
    {
     "name": "stdout",
     "output_type": "stream",
     "text": [
      "Estimated size in memory: 6.40 GB\n",
      "Real size on disk: 2.19 GB\n"
     ]
    }
   ],
   "source": [
    "estimated_size = df.estimated_size(unit=\"gb\")\n",
    "actual_size = os.path.getsize(\"data/articles_preprocessed.parquet\")\n",
    "\n",
    "print(\n",
    "    f\"Estimated size in memory: {estimated_size:.2f} GB\\n\"\n",
    "    f\"Real size on disk: {actual_size / 1024**3:.2f} GB\"\n",
    ")"
   ]
  }
 ],
 "metadata": {
  "kernelspec": {
   "display_name": ".venv",
   "language": "python",
   "name": "python3"
  },
  "language_info": {
   "codemirror_mode": {
    "name": "ipython",
    "version": 3
   },
   "file_extension": ".py",
   "mimetype": "text/x-python",
   "name": "python",
   "nbconvert_exporter": "python",
   "pygments_lexer": "ipython3",
   "version": "3.12.3"
  }
 },
 "nbformat": 4,
 "nbformat_minor": 2
}
