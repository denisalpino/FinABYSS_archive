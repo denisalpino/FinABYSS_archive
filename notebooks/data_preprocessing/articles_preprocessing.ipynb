{
 "cells": [
  {
   "cell_type": "code",
   "execution_count": 1,
   "metadata": {},
   "outputs": [],
   "source": [
    "import polars as pl\n",
    "\n",
    "import warnings\n",
    "import os\n",
    "os.chdir('/home/denisalpino/dev/FinABYSS')"
   ]
  },
  {
   "cell_type": "code",
   "execution_count": 2,
   "metadata": {},
   "outputs": [],
   "source": [
    "warnings.simplefilter(\"ignore\", Warning)"
   ]
  },
  {
   "cell_type": "code",
   "execution_count": null,
   "metadata": {},
   "outputs": [],
   "source": [
    "title_lower = pl.col(\"title\").str.to_lowercase()\n",
    "condition_title = (\n",
    "    # PR Newswire группа\n",
    "    (pl.col(\"source\") == \"PR Newswire\") & (\n",
    "        title_lower.str.contains(\"releases monthly portfolio\", literal=True) |\n",
    "        title_lower.str.contains(\"announce distribution rates\", literal=True) |\n",
    "        title_lower.str.ends_with(\"results of operations\")\n",
    "    )\n",
    ") | (\n",
    "    # Business Wire группа\n",
    "    (pl.col(\"source\") == \"Business Wire\") & (\n",
    "        title_lower.str.contains(\"advisory for\", literal=True) |\n",
    "        title_lower.str.contains(\"monthly disclosure of the total number of shares and voting rights\", literal=True) |\n",
    "        title_lower.str.contains(\"early repurchase\", literal=True) |\n",
    "        title_lower.str.contains(\"early redemption\", literal=True) |\n",
    "        title_lower.str.contains(\"issue of debt\", literal=True) |\n",
    "        title_lower.str.contains(\"variable rate fix\", literal=True) |\n",
    "        title_lower.str.starts_with(\"eurofins: purchases of own shares\") |\n",
    "        title_lower.str.starts_with(\"eurofins scientific\") |\n",
    "        title_lower.str.ends_with(\"short interest report\") |\n",
    "        title_lower.str.ends_with(\"home member state election\")\n",
    "    )\n",
    ") | (\n",
    "    # Josh Jenke группа\n",
    "    (pl.col(\"source\") == \"Josh Jenke, Peoria Journal Star\") &\n",
    "        title_lower.str.starts_with(\"3 of the best\")\n",
    ") | (\n",
    "    # Public Record группа\n",
    "    (pl.col(\"source\") == \"Public Record\") &\n",
    "        title_lower.str.contains(\"vendors licenses\", literal=True)\n",
    ") | (\n",
    "    # Investing.com группа\n",
    "    (pl.col(\"source\") == \"Investing.com\") &\n",
    "        title_lower.str.starts_with(\"watch live:\")\n",
    ") | (\n",
    "    # Общее условие для заголовка\n",
    "    title_lower.str.starts_with('aem united states ag tractor and combine report') |\n",
    "    title_lower.str.contains(\"net asset value\", literal=True) |\n",
    "    title_lower.str.contains(\"media advisory\", literal=True) |\n",
    "    title_lower.str.contains(\"form 8\", literal=True) |\n",
    "    title_lower.str.contains(\"block listing interim review\", literal=True) |\n",
    "    title_lower.str.contains(\"holdings in company\", literal=True) |\n",
    "    title_lower.str.contains(\"holding(s) in company\", literal=True) |\n",
    "    title_lower.str.contains(\"director/pdmr shareholding\", literal=True) |\n",
    "    title_lower.str.contains(\"director / pdmr notification\", literal=True) |\n",
    "    title_lower.str.contains(\"null\", literal=True)\n",
    ") | (\n",
    "    # GlobeNewswire группа\n",
    "    (pl.col(\"source\") == \"GlobeNewswire\") & (\n",
    "        title_lower.str.starts_with('key digital') | # Под вопросом (слишком общая формулировка)\n",
    "        title_lower.str.starts_with(\"issue of equity\") |\n",
    "        title_lower.str.starts_with(\"delisting of certificates\") |\n",
    "        title_lower.str.contains(\"buy-back program\", literal=True) |\n",
    "        title_lower.str.contains(\"disclosure of trading in own shares\", literal=True) |\n",
    "        title_lower.str.contains(\"voting rights\", literal=True) |\n",
    "        title_lower.str.contains(\"notification of major holdings\", literal=True) |\n",
    "        title_lower.str.contains(\"investors calendar\", literal=True) |\n",
    "        title_lower.str.contains(\"recall\", literal=True) |\n",
    "        title_lower.str.contains(\"public health alert\", literal=True) |\n",
    "        title_lower.str.starts_with(\"conditions for\")\n",
    "    )\n",
    ")"
   ]
  },
  {
   "cell_type": "code",
   "execution_count": null,
   "metadata": {},
   "outputs": [],
   "source": [
    "text_lower = pl.col(\"text\").str.to_lowercase()\n",
    "condition_text = (\n",
    "    # GlobeNewswire группа\n",
    "    (pl.col(\"source\") == \"GlobeNewswire\") & (\n",
    "        text_lower.str.starts_with('attachment')\n",
    "    )\n",
    ") | (\n",
    "    # Sarah Ferguson группа\n",
    "    (pl.col(\"source\") == \"Sarah Ferguson\") &\n",
    "        text_lower.str.starts_with(\"(sponsored)\")\n",
    ")"
   ]
  },
  {
   "cell_type": "code",
   "execution_count": 4,
   "metadata": {},
   "outputs": [],
   "source": [
    "if not os.path.exists(\"data/preprocessed/\"):\n",
    "    os.mkdir(\"data/preprocessed/\")"
   ]
  },
  {
   "cell_type": "code",
   "execution_count": null,
   "metadata": {},
   "outputs": [],
   "source": [
    "# Настраиваем потоковый режим: устанавливаем размер чанка\n",
    "with pl.Config() as cfg:\n",
    "    cfg.set_streaming_chunk_size(25_000)\n",
    "\n",
    "    # Формируем lazy-план обработки данных\n",
    "    plan = (\n",
    "        pl.scan_parquet(\"data/raw/articles.parquet\")\n",
    "        # delete all spaces from sides\n",
    "        .with_columns(\n",
    "            pl.col(\"text\").str.strip_chars().alias(\"text\")\n",
    "        )\n",
    "        # filter only non-empty texts\n",
    "        .filter(pl.col(\"text\").str.len_chars() > 0)\n",
    "        # filter not representative texts by titles\n",
    "        .filter(~condition_title)\n",
    "        # filter not representative texts by texts\n",
    "        .filter(~condition_text)\n",
    "        # cast the column to its corresponding type\n",
    "        .with_columns(\n",
    "            pl.col(\"datetime\")\n",
    "              .str.to_datetime(format=\"%Y-%m-%dT%H:%M:%S%.fZ\", time_zone=\"UTC\")\n",
    "              .alias(\"datetime\")\n",
    "        )\n",
    "        .unique(subset=[\"text\"]) # cant compare by column assets because of internal library error\n",
    "        .sort(\"datetime\") # sorting by datetime asceding\n",
    "        .sink_parquet(\"data/preprocessed/articles.parquet\", engine=\"streaming\")\n",
    "    )"
   ]
  },
  {
   "cell_type": "code",
   "execution_count": 6,
   "metadata": {},
   "outputs": [
    {
     "name": "stdout",
     "output_type": "stream",
     "text": [
      "Real size on disk: 2.03 GB\n"
     ]
    }
   ],
   "source": [
    "actual_size = os.path.getsize(\"data/preprocessed/articles.parquet\")\n",
    "\n",
    "print(f\"Real size on disk: {actual_size / 1024**3:.2f} GB\")"
   ]
  }
 ],
 "metadata": {
  "kernelspec": {
   "display_name": ".venv",
   "language": "python",
   "name": "python3"
  },
  "language_info": {
   "codemirror_mode": {
    "name": "ipython",
    "version": 3
   },
   "file_extension": ".py",
   "mimetype": "text/x-python",
   "name": "python",
   "nbconvert_exporter": "python",
   "pygments_lexer": "ipython3",
   "version": "3.12.3"
  }
 },
 "nbformat": 4,
 "nbformat_minor": 2
}
